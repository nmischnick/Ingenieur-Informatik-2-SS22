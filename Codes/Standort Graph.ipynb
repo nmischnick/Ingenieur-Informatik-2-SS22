{
 "cells": [
  {
   "cell_type": "code",
   "execution_count": 258,
   "id": "3b0f37aa",
   "metadata": {},
   "outputs": [
    {
     "name": "stdout",
     "output_type": "stream",
     "text": [
      "                         sum\n",
      "             Verbrauch (kWh)\n",
      "Ladepunkt                   \n",
      "Salzgitter         23764.490\n",
      "WF Gebäude H        6121.000\n",
      "WF Recht              30.212\n"
     ]
    }
   ],
   "source": [
    "import pandas as pd\n",
    "import matplotlib.pyplot as plt\n",
    "import seaborn as sns\n",
    "import numpy as np\n",
    "\n",
    "#df, weil \"meineDaten\" zu lang ist :D\n",
    "df= pd.read_csv(r\"C:\\Users\\Jure\\Desktop\\Studium\\2 Semester\\Alle-ladevorgänge-2022-03-16.csv\", sep=\";\",encoding='latin-1',decimal=\",\")\n",
    "df['Ladepunkt'] = df['Ladepunkt'].replace(['DE*cem*E740796*001'],'Salzgitter')\n",
    "df['Ladepunkt'] = df['Ladepunkt'].replace(['DE*cem*E740796*002'],'Salzgitter')\n",
    "df['Ladepunkt'] = df['Ladepunkt'].replace(['DE*cem*E740796*003'],'Salzgitter')\n",
    "df['Ladepunkt'] = df['Ladepunkt'].replace(['DE*cem*E740796*004'],'Salzgitter')\n",
    "\n",
    "df['Ladepunkt'] = df['Ladepunkt'].replace(['DE*cem*E809189*001'],'WF Recht')\n",
    "df['Ladepunkt'] = df['Ladepunkt'].replace(['DE*cem*E809189*002'],'WF Recht')\n",
    "\n",
    "df['Ladepunkt'] = df['Ladepunkt'].replace(['DE*cem*EMLP1'],'WF Gebäude H') #EMLP\n",
    "df['Ladepunkt'] = df['Ladepunkt'].replace(['DE*cem*EMLP2'],'WF Gebäude H')\n",
    "\n",
    "df['Ladepunkt'] = df['Ladepunkt'].replace(['DE*cem*ESLP1'],'WF Gebäude H') #ESLP2\n",
    "df['Ladepunkt'] = df['Ladepunkt'].replace(['DE*cem*ESLP2'],'WF Gebäude H')\n",
    "\n",
    "\n",
    "df.rename(columns={'Monat (MM/JJJJ)': 'Date'}, inplace=True) #Date weil auch hier zu lang :D\n",
    "\n",
    "####Leere Spalten löschen\n",
    "df.drop('Stop-Grund', inplace=True, axis=1)\n",
    "df.drop('Grund für die Auffälligkeit', inplace=True, axis=1)\n",
    "df.drop('Kosten', inplace=True, axis=1)\n",
    "df.drop('Provider', inplace=True, axis=1)\n",
    "df.drop('Operator', inplace=True, axis=1)\n",
    "\n",
    "df[\"Date\"] = pd.to_datetime(df[\"Date\"]) #Wandelt Date in eine Zeit um\n",
    "\n",
    "df.set_index(\"Date\", inplace = True)\n",
    "\n",
    "#tagesverbrauch = df[\"Verbrauch (kWh)\"].resample(\"D\").sum() #Gibt den Tagesverbrauch aus\n",
    "#print(tagesverbrauch)\n",
    "\n",
    "#wochenverbrauch = df[\"Verbrauch (kWh)\"].resample(\"W\").sum() #Gibt den Wochenverbrauch aus\n",
    "#print(wochenverbrauch)\n",
    "\n",
    "#%matplotlib inline\n",
    "\n",
    "#tagesverbrauch.plot() #Grafik dazu\n",
    "#wochenverbrauch.plot() #Grafik dazu\n",
    "\n",
    "#df[\"Tagesverbrauch\"]= df[\"Verbrauch (kWh)\"].resample(\"D\").sum() Funktioniert noch nicht\n",
    "#df[\"Wochenverbrauch\"]=df[\"Verbrauch (kWh)\"].resample(\"W\").sum() Funktioniert noch nicht\n",
    "\n",
    "Verbrauch_der_Ladesäulen = pd.pivot_table(df, index=\"Ladepunkt\", values=\"Verbrauch (kWh)\", aggfunc = [\"sum\"])\n",
    "print(Verbrauch_der_Ladesäulen)"
   ]
  },
  {
   "cell_type": "code",
   "execution_count": 259,
   "id": "fa0ccfbf",
   "metadata": {
    "scrolled": true
   },
   "outputs": [
    {
     "name": "stdout",
     "output_type": "stream",
     "text": [
      "2020-06-01 00:00:00\n",
      "2020-06-01 00:00:00\n",
      "2021-06-30 00:00:00\n"
     ]
    },
    {
     "name": "stderr",
     "output_type": "stream",
     "text": [
      "C:\\Users\\Jure\\AppData\\Local\\Temp/ipykernel_9176/1331915498.py:16: FutureWarning: Value based partial slicing on non-monotonic DatetimeIndexes with non-existing keys is deprecated and will raise a KeyError in a future Version.\n",
      "  df = df[beginn_str :ende_str]\n"
     ]
    }
   ],
   "source": [
    "from datetime import datetime\n",
    "\n",
    "\n",
    "\n",
    "beginn = str(\"01/06/2020\")\n",
    "beginn_zeit = datetime.strptime(beginn,\"%d/%m/%Y\")\n",
    "beginn_str = datetime.strftime(beginn_zeit,\"%Y-%m-%d %H:%M:%S\")\n",
    "\n",
    "\n",
    "ende = str(\"30/06/2021\")\n",
    "ende_zeit = datetime.strptime(ende,\"%d/%m/%Y\")\n",
    "ende_str = datetime.strftime(ende_zeit,\"%Y-%m-%d %H:%M:%S\") \n",
    "\n",
    "\n",
    "\n",
    "df = df[beginn_str :ende_str]\n",
    "print(beginn_zeit)\n",
    "print(beginn_str)\n",
    "print(ende_str)\n",
    "gruppieren= df.groupby([\"Ladepunkt\"])\n",
    "#print(gruppieren)"
   ]
  },
  {
   "cell_type": "code",
   "execution_count": null,
   "id": "fc5b2de9",
   "metadata": {},
   "outputs": [],
   "source": []
  },
  {
   "cell_type": "raw",
   "id": "cae9c27a",
   "metadata": {},
   "source": []
  },
  {
   "cell_type": "code",
   "execution_count": 260,
   "id": "83da857b",
   "metadata": {},
   "outputs": [
    {
     "name": "stdout",
     "output_type": "stream",
     "text": [
      "Ladepunkt     Date      \n",
      "Salzgitter    2020-06-07    118.782\n",
      "              2020-06-14     74.748\n",
      "              2020-06-21    131.964\n",
      "              2020-06-28    144.026\n",
      "              2020-07-05    177.359\n",
      "                             ...   \n",
      "WF Gebäude H  2021-05-16   -342.380\n",
      "              2021-05-23      0.000\n",
      "              2021-05-30      0.000\n",
      "              2021-06-06      0.000\n",
      "              2021-06-13    136.650\n",
      "Name: Verbrauch (kWh), Length: 88, dtype: float64\n"
     ]
    }
   ],
   "source": [
    "\n",
    "wochenverbrauch = gruppieren[\"Verbrauch (kWh)\"].resample(\"W\").sum() \n",
    "                          \n",
    "print(wochenverbrauch)"
   ]
  },
  {
   "cell_type": "code",
   "execution_count": null,
   "id": "c18a9cdb",
   "metadata": {},
   "outputs": [],
   "source": [
    "\n"
   ]
  },
  {
   "cell_type": "code",
   "execution_count": 261,
   "id": "8c0b1455",
   "metadata": {},
   "outputs": [
    {
     "name": "stdout",
     "output_type": "stream",
     "text": [
      "Keine Daten Recht\n"
     ]
    }
   ],
   "source": [
    "try:\n",
    "    wfh =gruppieren.get_group(\"WF Gebäude H\")\n",
    "except:\n",
    "    print(\"Keine Daten H\")\n",
    "    \n",
    "try:\n",
    "    salzgitter =gruppieren.get_group(\"Salzgitter\")\n",
    "except:\n",
    "    print(\"Keine Daten Salzgitter\")\n",
    "try:\n",
    "    wfr =gruppieren.get_group(\"WF Recht\")\n",
    "except:\n",
    "    print(\"Keine Daten Recht\")"
   ]
  },
  {
   "cell_type": "code",
   "execution_count": 262,
   "id": "9e8714bf",
   "metadata": {},
   "outputs": [
    {
     "name": "stdout",
     "output_type": "stream",
     "text": [
      "Keine Daten Recht\n"
     ]
    }
   ],
   "source": [
    "try:\n",
    "    wfh1 = wfh[\"Verbrauch (kWh)\"].resample(\"W\").sum()\n",
    "except:\n",
    "    print(\"Keine Daten H\")\n",
    "    \n",
    "try:\n",
    "    salzgitter1 = salzgitter[\"Verbrauch (kWh)\"].resample(\"W\").sum()\n",
    "except:\n",
    "    print(\"Keine Daten Salzgitter\")\n",
    "try:\n",
    "    wfr1 = wfr[\"Verbrauch (kWh)\"].resample(\"W\").sum()\n",
    "except:\n",
    "    print(\"Keine Daten Recht\")\n",
    "\n",
    "\n",
    "\n",
    "\n",
    "\n",
    "\n",
    "\n"
   ]
  },
  {
   "cell_type": "code",
   "execution_count": null,
   "id": "808d69a9",
   "metadata": {},
   "outputs": [],
   "source": []
  },
  {
   "cell_type": "code",
   "execution_count": 263,
   "id": "eb9e48ff",
   "metadata": {},
   "outputs": [
    {
     "name": "stdout",
     "output_type": "stream",
     "text": [
      "Keine Daten\n"
     ]
    },
    {
     "data": {
      "text/plain": [
       "Text(0.5, 0, 'Datum')"
      ]
     },
     "execution_count": 263,
     "metadata": {},
     "output_type": "execute_result"
    },
    {
     "data": {
      "image/png": "[encoded data removed]",
      "text/plain": [
       "<Figure size 432x288 with 1 Axes>"
      ]
     },
     "metadata": {
      "needs_background": "light"
     },
     "output_type": "display_data"
    }
   ],
   "source": [
    "%matplotlib inline\n",
    "try:\n",
    "    salzgitter1.plot()\n",
    "except:\n",
    "    print(\"Keine Daten\")\n",
    "try:\n",
    "     wfh1.plot()\n",
    "except:\n",
    "    print(\"Keine Daten\")\n",
    "try:\n",
    "    wfr1.plot()\n",
    "except:\n",
    "    print(\"Keine Daten\")\n",
    "\n",
    "plt.xlabel(\"Datum\")\n",
    "\n",
    "\n",
    "\n"
   ]
  },
  {
   "cell_type": "code",
   "execution_count": null,
   "id": "2e5dcbda",
   "metadata": {},
   "outputs": [],
   "source": []
  }
 ],
 "metadata": {
  "kernelspec": {
   "display_name": "Python 3 (ipykernel)",
   "language": "python",
   "name": "python3"
  },
  "language_info": {
   "codemirror_mode": {
    "name": "ipython",
    "version": 3
   },
   "file_extension": ".py",
   "mimetype": "text/x-python",
   "name": "python",
   "nbconvert_exporter": "python",
   "pygments_lexer": "ipython3",
   "version": "3.9.7"
  }
 },
 "nbformat": 4,
 "nbformat_minor": 5
}
